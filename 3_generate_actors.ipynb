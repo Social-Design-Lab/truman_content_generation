{
 "cells": [
  {
   "cell_type": "markdown",
   "metadata": {},
   "source": [
    "# Generate actors"
   ]
  },
  {
   "cell_type": "markdown",
   "metadata": {},
   "source": [
    "Generate fake user profiles including their profile pictures. \n",
    "\n",
    "Specify the number of profiles you would like to generate in the variable `num_profiles`. For example, `num_profiles = 100`. If you would like locations to be limited to the USA, then set `limit_to_USA` to `True`; otherwise, setting it to `False` will allow for locations to be anywhere in the world. If you would like to change the image size, you may do so with the variable `image_size`.\n",
    "\n",
    "The bios are filled with random occupations (from https://github.com/johnlsheridan/occupations/blob/master/occupations.csv but saved locally in the `internal/` folder). Everything else is generated using the Random User API.\n",
    "\n",
    "## Run the program\n",
    "\n",
    "Run the program by selecting *Kernel > Restart Kernel and Run All Cells...* in the menu bar at the top left of the screen. Results will be in `output > csv_files > actors.csv` and `output > profile_pictures`. You will see the words, \"Profiles generated!!\" at the bottom of the notebook when the code is finished running."
   ]
  },
  {
   "cell_type": "code",
   "execution_count": null,
   "metadata": {},
   "outputs": [],
   "source": [
    "num_profiles = 10  # the number of profiles to generate\n",
    "limit_to_USA = False  # options: True or False\n",
    "image_size = 'large'  # options: 'thumbnail', 'medium', or 'large'"
   ]
  },
  {
   "cell_type": "code",
   "execution_count": null,
   "metadata": {},
   "outputs": [],
   "source": [
    "import numpy as np\n",
    "import pandas as pd\n",
    "import requests\n",
    "import random\n",
    "from random_address import real_random_address"
   ]
  },
  {
   "cell_type": "code",
   "execution_count": null,
   "metadata": {},
   "outputs": [],
   "source": [
    "response = requests.get('https://randomuser.me/api/?results=' + str(num_profiles))\n",
    "results = response.json()['results']"
   ]
  },
  {
   "cell_type": "code",
   "execution_count": null,
   "metadata": {},
   "outputs": [],
   "source": [
    "profile_data = {'username': [],\n",
    "                'name': [],\n",
    "                'age': [],\n",
    "                'picture': [],\n",
    "                'gender': [],\n",
    "                'bio': [],\n",
    "                'location': [],\n",
    "                'class': []\n",
    "}\n",
    "\n",
    "# get list of occupations\n",
    "with open('internal/occupations.txt') as f:\n",
    "    lines = f.read()\n",
    "occupations = lines.split('\\n')\n",
    "\n",
    "for i in range(len(results)):\n",
    "    # download images\n",
    "    image_data = requests.get(results[i]['picture'][str(image_size)]).content\n",
    "    image_name = 'output/profile_pictures/profile_img_' + str(i) + '.png'\n",
    "    with open(image_name, 'wb') as handler:\n",
    "        handler.write(image_data)\n",
    "\n",
    "    profile_data['username'].append(results[i]['login']['username'])\n",
    "    profile_data['name'].append(results[i]['name']['first'] + \" \" + results[i]['name']['last'])\n",
    "    profile_data['age'].append(results[i]['dob']['age'])\n",
    "    profile_data['picture'].append('profile_img_' + str(i) + '.png')\n",
    "    profile_data['gender'].append(results[i]['gender'])\n",
    "    profile_data['bio'].append(random.choice(occupations))\n",
    "    if limit_to_USA:\n",
    "        while True:\n",
    "            this_address = real_random_address()\n",
    "            if 'city' in this_address.keys() and 'state' in this_address.keys():\n",
    "                break\n",
    "        profile_data['location'].append(this_address['city'] + \", \" + this_address['state'])\n",
    "    else:\n",
    "        profile_data['location'].append(results[i]['location']['city'] + \", \" + results[i]['location']['country'])\n",
    "    profile_data['class'].append('normal')\n",
    "\n",
    "profiles_df = pd.DataFrame(profile_data)\n",
    "profiles_df.to_csv('output/csv_files/actors.csv', index=False)\n",
    "\n",
    "print(\"\\n\\n\\nProfiles generated!!\")"
   ]
  },
  {
   "cell_type": "code",
   "execution_count": null,
   "metadata": {},
   "outputs": [],
   "source": []
  }
 ],
 "metadata": {
  "kernelspec": {
   "display_name": "Python 3 (ipykernel)",
   "language": "python",
   "name": "python3"
  },
  "language_info": {
   "codemirror_mode": {
    "name": "ipython",
    "version": 3
   },
   "file_extension": ".py",
   "mimetype": "text/x-python",
   "name": "python",
   "nbconvert_exporter": "python",
   "pygments_lexer": "ipython3",
   "version": "3.10.6"
  }
 },
 "nbformat": 4,
 "nbformat_minor": 4
}
